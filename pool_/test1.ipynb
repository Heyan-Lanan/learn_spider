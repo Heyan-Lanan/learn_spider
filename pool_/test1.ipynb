{
 "cells": [
  {
   "cell_type": "code",
   "execution_count": 1,
   "metadata": {
    "collapsed": true
   },
   "outputs": [
    {
     "name": "stdout",
     "output_type": "stream",
     "text": [
      "正在下载: aa\n",
      "下载成功: aa\n",
      "正在下载: bb\n",
      "下载成功: bb\n",
      "正在下载: cc\n",
      "下载成功: cc\n",
      "6.025902 second\n"
     ]
    }
   ],
   "source": [
    "import re\n",
    "import time\n",
    "def get_page(str1):\n",
    "    print(\"正在下载:\", str1)\n",
    "    time.sleep(2)\n",
    "    print(\"下载成功:\", str1)\n",
    "name_list = ['aa', 'bb', 'cc']\n",
    "start_time = time.time()\n",
    "for item in name_list:  # 单线程\n",
    "    get_page(item)\n",
    "end_time = time.time()\n",
    "print('%f second' % (end_time - start_time))"
   ]
  },
  {
   "cell_type": "code",
   "execution_count": 2,
   "outputs": [
    {
     "name": "stdout",
     "output_type": "stream",
     "text": [
      "正在下载: aa\n",
      "正在下载: bb\n",
      "正在下载: cc\n",
      "下载成功:下载成功: cc\n",
      "下载成功: bb\n",
      " aa\n",
      "2.017121 second\n"
     ]
    }
   ],
   "source": [
    "from multiprocessing.dummy import Pool\n",
    "start_time = time.time()\n",
    "pool = Pool(3)\n",
    "pool.map(get_page, name_list)\n",
    "end_time = time.time()\n",
    "print('%f second' % (end_time - start_time))"
   ],
   "metadata": {
    "collapsed": false
   }
  },
  {
   "cell_type": "code",
   "execution_count": 3,
   "outputs": [
    {
     "name": "stdout",
     "output_type": "stream",
     "text": [
      "https://www.pearvideo.com/video_1383732 他用竹编做二维码，200一个受热捧.mp4\n",
      "https://video.pearvideo.com/mp4/adshort/20180708/cont-1383732-11983629-185548_adpkg-ad_hd.mp4\n",
      "https://www.pearvideo.com/video_1383862 大叔卖瓜给娃治病，巡防送水直抹泪.mp4\n",
      "https://video.pearvideo.com/mp4/adshort/20180708/cont-1383862-12412559_adpkg-ad_hd.mp4\n",
      "https://www.pearvideo.com/video_1383878 环卫工半天喝5斤水:挣钱给老伴养老.mp4\n",
      "https://video.pearvideo.com/mp4/adshort/20180708/cont-1383878-12412722_adpkg-ad_hd.mp4\n",
      "https://www.pearvideo.com/video_1383592 7旬老太为18岁养女寻亲：怕她孤单.mp4\n",
      "https://video.pearvideo.com/mp4/adshort/20180707/cont-1383592-12409703_adpkg-ad_hd.mp4\n",
      "大叔卖瓜给娃治病，巡防送水直抹泪.mp4\n",
      "他用竹编做二维码，200一个受热捧.mp4\n",
      "7旬老太为18岁养女寻亲：怕她孤单.mp4\n",
      "环卫工半天喝5斤水:挣钱给老伴养老.mp4\n"
     ]
    }
   ],
   "source": [
    "import requests\n",
    "import random\n",
    "from lxml import etree\n",
    "header = {\n",
    "    'User-Agent': 'Mozilla/5.0 (Windows NT 10.0; Win64; x64) AppleWebKit/537.36 (KHTML, like Gecko) Chrome/108.0.0.0 Safari/537.36 Edg/108.0.1462.54'\n",
    "}\n",
    "url = 'https://www.pearvideo.com/category_5'\n",
    "urls = []\n",
    "page_text = requests.get(url=url, headers=header).text\n",
    "tree = etree.HTML(page_text)\n",
    "li_list = tree.xpath('//ul[@id=\"listvideoListUl\"]/li')\n",
    "for li in li_list:\n",
    "    detail_url = 'https://www.pearvideo.com/' + li.xpath('./div/a/@href')[0]\n",
    "    name = li.xpath('./div/a/div[2]/text()')[0] + '.mp4'\n",
    "    print(detail_url, name)\n",
    "    contId = re.findall('_(.*)', detail_url)[0]\n",
    "    # print(contId)\n",
    "    mrd = random.random()\n",
    "    params = {\n",
    "            \"contId\": contId,\n",
    "            \"mrd\": mrd\n",
    "    }\n",
    "    video_url = \"https://www.pearvideo.com/videoStatus.jsp\"\n",
    "    header[\"Referer\"] = detail_url\n",
    "    video_response = requests.get(url=video_url, headers=header, params=params).text\n",
    "    # print(video_response)\n",
    "    fake_video_url = re.findall('\"srcUrl\":\"(.*?)\"', video_response)[0]\n",
    "    # print(fake_video_url)\n",
    "    url1 = re.findall('https://.*?/.*?/.*?/.*?/(.*?)-', fake_video_url)[0]\n",
    "    real_video_url = re.sub(url1, 'cont-' + contId, fake_video_url)\n",
    "    print(real_video_url)\n",
    "    dic = {\n",
    "        'name': name,\n",
    "        'url': real_video_url\n",
    "    }\n",
    "    urls.append(dic)\n",
    "\n",
    "def get_video(dic2):\n",
    "    url2 = dic2['url']\n",
    "    header2 = {\n",
    "        'User-Agent': 'Mozilla/5.0 (Windows NT 10.0; Win64; x64) AppleWebKit/537.36 (KHTML, like Gecko) Chrome/108.0.0.0 Safari/537.36 Edg/108.0.1462.54'\n",
    "    }\n",
    "    data = requests.get(url=url2, headers=header2).content\n",
    "    with open(dic2['name'], 'wb') as fp:\n",
    "        fp.write(data)\n",
    "        print(dic2['name'])\n",
    "\n",
    "pool = Pool(4)\n",
    "pool.map(get_video, urls)\n",
    "pool.close()\n",
    "pool.join()\n"
   ],
   "metadata": {
    "collapsed": false
   }
  },
  {
   "cell_type": "code",
   "execution_count": null,
   "outputs": [],
   "source": [],
   "metadata": {
    "collapsed": false
   }
  }
 ],
 "metadata": {
  "kernelspec": {
   "display_name": "Python 3",
   "language": "python",
   "name": "python3"
  },
  "language_info": {
   "codemirror_mode": {
    "name": "ipython",
    "version": 2
   },
   "file_extension": ".py",
   "mimetype": "text/x-python",
   "name": "python",
   "nbconvert_exporter": "python",
   "pygments_lexer": "ipython2",
   "version": "2.7.6"
  }
 },
 "nbformat": 4,
 "nbformat_minor": 0
}
