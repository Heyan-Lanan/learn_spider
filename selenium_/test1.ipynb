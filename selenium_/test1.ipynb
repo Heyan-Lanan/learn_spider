{
 "cells": [
  {
   "cell_type": "code",
   "execution_count": 29,
   "metadata": {
    "collapsed": true
   },
   "outputs": [],
   "source": [
    "from selenium.webdriver.common.by import By\n",
    "from selenium import webdriver\n",
    "from time import sleep\n",
    "driver = webdriver.Edge()\n",
    "driver.get(\"https://www.baidu.com/\")\n",
    "driver.maximize_window()\n",
    "sleep(1)\n",
    "driver.find_elements(By.ID, 's-usersetting-top')[0].click()\n",
    "sleep(1)\n",
    "driver.find_elements(By.LINK_TEXT, '搜索设置')[0].click()\n",
    "sleep(1)\n",
    "m = driver.find_element(By.XPATH, '//*[@id=\"nr_3\"]').click()\n",
    "sleep(1)\n",
    "driver.find_element(By.XPATH, '//*[@id=\"se-setting-7\"]/a[2]').click()\n",
    "sleep(1)\n",
    "driver.switch_to.alert.accept()\n",
    "sleep(1)\n",
    "driver.find_element(By.ID, 'kw').send_keys('美女')\n",
    "sleep(1)\n",
    "driver.find_element(By.ID, 'su').click()\n",
    "sleep(1)\n",
    "driver.find_element(By.XPATH, '//*[@id=\"1\"]/div/h3/a').click()\n",
    "sleep(1)\n",
    "driver.close()\n",
    "driver.quit()"
   ]
  },
  {
   "cell_type": "code",
   "execution_count": null,
   "outputs": [],
   "source": [],
   "metadata": {
    "collapsed": false
   }
  }
 ],
 "metadata": {
  "kernelspec": {
   "display_name": "Python 3",
   "language": "python",
   "name": "python3"
  },
  "language_info": {
   "codemirror_mode": {
    "name": "ipython",
    "version": 2
   },
   "file_extension": ".py",
   "mimetype": "text/x-python",
   "name": "python",
   "nbconvert_exporter": "python",
   "pygments_lexer": "ipython2",
   "version": "2.7.6"
  }
 },
 "nbformat": 4,
 "nbformat_minor": 0
}
