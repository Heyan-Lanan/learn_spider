{
 "cells": [
  {
   "cell_type": "code",
   "execution_count": 21,
   "metadata": {
    "collapsed": true
   },
   "outputs": [
    {
     "name": "stdout",
     "output_type": "stream",
     "text": [
      "[<Element title at 0x28a90af6ec0>]\n",
      "[<Element div at 0x28a90af6a80>, <Element div at 0x28a90af61c0>]\n",
      "[<Element div at 0x28a90af61c0>]\n",
      "[<Element p at 0x28a90a5d500>]\n",
      "['胡桃']\n",
      "['\\n        ', '钟离', '\\n        ', '枫原万叶', '\\n        ', '胡桃', '\\n    ']\n",
      "['https://images.cnblogs.com/cnblogs_com/blogs/721100/galleries/2074597/t_211206035443_yun.png?a=1640075766203']\n"
     ]
    }
   ],
   "source": [
    "from lxml import etree\n",
    "tree = etree.parse('jetbrains.html')\n",
    "r1 = tree.xpath('/html/head/title')  # /表示逐级定位\n",
    "r2 = tree.xpath('//div')  # //表示从任意位置定位\n",
    "r3 = tree.xpath('//div[@class=\"alert-info\"]')\n",
    "r4 = tree.xpath('//div[@class=\"alert-info\"]/p[3]')\n",
    "r5 = tree.xpath('//div[@class=\"alert-info\"]/p[3]/text()')  # 取文本\n",
    "r6 = tree.xpath('//div[@class=\"alert-info\"]//text()')  # 取所有子标签的文本\n",
    "r7 = tree.xpath('//img/@src')  # @取属性\n",
    "print(r1)\n",
    "print(r2)\n",
    "print(r3)\n",
    "print(r4)\n",
    "print(r5)\n",
    "print(r6)\n",
    "print(r7)"
   ]
  },
  {
   "cell_type": "code",
   "execution_count": 34,
   "outputs": [
    {
     "name": "stdout",
     "output_type": "stream",
     "text": [
      "['亦庄南   洋房 95平 精装 南北通透大两居 采光  棒']\n",
      "['房山城关地铁站附近万宁小区低楼层二居室看房方便']\n",
      "['福成禧悦里87平    2室1厅1卫']\n",
      "['天洋城北区南北通透三居室 精装修 中间楼层 近地铁 拎包入住']\n"
     ]
    }
   ],
   "source": [
    "import requests\n",
    "header = {\n",
    "    'User-Agent': 'Mozilla/5.0 (Windows NT 10.0; Win64; x64) AppleWebKit/537.36 (KHTML, like Gecko) Chrome/108.0.0.0 Safari/537.36 Edg/108.0.1462.54'\n",
    "}\n",
    "url = 'https://bj.58.com/ershoufang/'\n",
    "page_text = requests.get(url=url, headers=header).text\n",
    "tree = etree.HTML(page_text)\n",
    "str1 = '/html/body/div[1]/div/div/section/section[3]/section[1]/section[2]/div[%d]/a/div[2]/div[1]/div[1]/h3/text()'\n",
    "for i in range(1, 5):\n",
    "    l1 = tree.xpath(str1 % i)\n",
    "    print(l1)\n"
   ],
   "metadata": {
    "collapsed": false
   }
  }
 ],
 "metadata": {
  "kernelspec": {
   "display_name": "Python 3",
   "language": "python",
   "name": "python3"
  },
  "language_info": {
   "codemirror_mode": {
    "name": "ipython",
    "version": 2
   },
   "file_extension": ".py",
   "mimetype": "text/x-python",
   "name": "python",
   "nbconvert_exporter": "python",
   "pygments_lexer": "ipython2",
   "version": "2.7.6"
  }
 },
 "nbformat": 4,
 "nbformat_minor": 0
}
