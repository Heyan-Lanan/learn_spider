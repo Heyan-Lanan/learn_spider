{
 "cells": [
  {
   "cell_type": "code",
   "execution_count": 4,
   "metadata": {
    "collapsed": true
   },
   "outputs": [
    {
     "name": "stdout",
     "output_type": "stream",
     "text": [
      "爬取图片完成\n"
     ]
    }
   ],
   "source": [
    "import requests\n",
    "url = 'https://images.cnblogs.com/cnblogs_com/blogs/721100/galleries/2074597/t_211206035443_yun.png?a=1640075766203'\n",
    "img_data = requests.get(url=url).content\n",
    "with open('./win.jpg', 'wb') as fp:\n",
    "    fp.write(img_data)\n",
    "print('爬取图片完成')"
   ]
  },
  {
   "cell_type": "code",
   "execution_count": 16,
   "outputs": [
    {
     "name": "stdout",
     "output_type": "stream",
     "text": [
      "['https://images.cnblogs.com/cnblogs_com/blogs/721100/galleries/2074597/t_211206035443_yun.png?a=1640075766203']\n",
      "爬取图片完成\n"
     ]
    }
   ],
   "source": [
    "import re\n",
    "url = 'https://www.cnblogs.com/ayanyuki'\n",
    "header = {\n",
    "    'User-Agent': 'Mozilla/5.0 (Windows NT 10.0; Win64; x64) AppleWebKit/537.36 (KHTML, like Gecko) Chrome/108.0.0.0 Safari/537.36 Edg/108.0.1462.54'\n",
    "}\n",
    "page_text = requests.get(url=url, headers=header).text\n",
    "with open('./blog.html', 'w') as fp:\n",
    "    fp.write(page_text)\n",
    "ex = '<script>.*?avatar: \\'(.*?)\\''\n",
    "img_src_list = re.findall(ex, page_text, re.S)  # re.S将这个字符串作为一个整体\n",
    "print(img_src_list)\n",
    "\n",
    "img_data = requests.get(url=img_src_list[0]).content\n",
    "with open('./blog.jpg', 'wb') as fp:\n",
    "    fp.write(img_data)\n",
    "print('爬取图片完成')"
   ],
   "metadata": {
    "collapsed": false
   }
  },
  {
   "cell_type": "code",
   "execution_count": null,
   "outputs": [],
   "source": [],
   "metadata": {
    "collapsed": false
   }
  }
 ],
 "metadata": {
  "kernelspec": {
   "display_name": "Python 3",
   "language": "python",
   "name": "python3"
  },
  "language_info": {
   "codemirror_mode": {
    "name": "ipython",
    "version": 2
   },
   "file_extension": ".py",
   "mimetype": "text/x-python",
   "name": "python",
   "nbconvert_exporter": "python",
   "pygments_lexer": "ipython2",
   "version": "2.7.6"
  }
 },
 "nbformat": 4,
 "nbformat_minor": 0
}
