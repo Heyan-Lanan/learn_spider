{
 "cells": [
  {
   "cell_type": "code",
   "execution_count": 1,
   "metadata": {
    "collapsed": true
   },
   "outputs": [
    {
     "name": "stdout",
     "output_type": "stream",
     "text": [
      "绿色\n",
      "橙色\n",
      "黄色\n",
      "黑色\n"
     ]
    }
   ],
   "source": [
    "import re\n",
    "content = '''苹果是绿色的\n",
    "橙子是橙色的\n",
    "香蕉是黄色的\n",
    "乌鸦是黑色的'''\n",
    "\n",
    "p = re.compile(r'.色')  # .匹配任意一个字符\n",
    "for one in p.findall(content):\n",
    "    print(one)"
   ]
  },
  {
   "cell_type": "code",
   "execution_count": 2,
   "outputs": [
    {
     "name": "stdout",
     "output_type": "stream",
     "text": [
      "，是绿色的\n",
      "，是橙色的\n",
      "，是黄色的\n",
      "，是黑色的\n",
      "，\n"
     ]
    }
   ],
   "source": [
    "content = '''苹果，是绿色的\n",
    "橙子，是橙色的\n",
    "香蕉，是黄色的\n",
    "乌鸦，是黑色的\n",
    "猴子，'''\n",
    "\n",
    "p = re.compile(r'，.*')  # *匹配前面的子式任意次\n",
    "for one in  p.findall(content):\n",
    "    print(one)"
   ],
   "metadata": {
    "collapsed": false
   }
  },
  {
   "cell_type": "code",
   "execution_count": 4,
   "outputs": [
    {
     "name": "stdout",
     "output_type": "stream",
     "text": [
      "，是绿色的\n",
      "，是橙色的\n",
      "，是黄色的\n",
      "，是黑色的\n"
     ]
    }
   ],
   "source": [
    "p = re.compile(r'，.+')  # +匹配前面的子式至少一次\n",
    "for one in  p.findall(content):\n",
    "    print(one)"
   ],
   "metadata": {
    "collapsed": false
   }
  },
  {
   "cell_type": "code",
   "execution_count": 5,
   "outputs": [
    {
     "name": "stdout",
     "output_type": "stream",
     "text": [
      "，是\n",
      "，是\n",
      "，是\n",
      "，是\n",
      "，\n"
     ]
    }
   ],
   "source": [
    "p = re.compile(r'，.?')  # ?匹配前面的子式0-1次\n",
    "for one in  p.findall(content):\n",
    "    print(one)"
   ],
   "metadata": {
    "collapsed": false
   }
  },
  {
   "cell_type": "code",
   "execution_count": 9,
   "outputs": [
    {
     "name": "stdout",
     "output_type": "stream",
     "text": [
      "，是是\n",
      "，是是\n",
      "，是是是是\n",
      "，是是是\n"
     ]
    }
   ],
   "source": [
    "content = '''苹果，是是是是绿色的\n",
    "橙子，是是是橙色的\n",
    "'''\n",
    "\n",
    "p = re.compile(r'，.{2}')  # {}匹配前面的子式n-m次\n",
    "for one in  p.findall(content):\n",
    "    print(one)\n",
    "p = re.compile(r'，是{3,4}')  # {}匹配前面的子式n-m次\n",
    "for one in  p.findall(content):\n",
    "    print(one)"
   ],
   "metadata": {
    "collapsed": false
   }
  },
  {
   "cell_type": "code",
   "execution_count": 10,
   "outputs": [
    {
     "name": "stdout",
     "output_type": "stream",
     "text": [
      "['<html>', '<head>', '<title>', '</title>']\n"
     ]
    }
   ],
   "source": [
    "source = '<html><head><title>Title</title>'\n",
    "p = re.compile(r'<.*?>')  # 增加?改为非贪婪模式\n",
    "print(p.findall(source))"
   ],
   "metadata": {
    "collapsed": false
   }
  },
  {
   "cell_type": "code",
   "execution_count": 14,
   "outputs": [
    {
     "name": "stdout",
     "output_type": "stream",
     "text": [
      "苹果.\n",
      "橙子.\n",
      "香蕉.\n"
     ]
    }
   ],
   "source": [
    "content = '''苹果.是绿色的\n",
    "橙子.是橙色的\n",
    "香蕉.是黄色的'''\n",
    "\n",
    "p = re.compile(r'.*\\.')  # \\转义字符\n",
    "for one in  p.findall(content):\n",
    "    print(one)"
   ],
   "metadata": {
    "collapsed": false
   }
  },
  {
   "cell_type": "code",
   "execution_count": 18,
   "outputs": [
    {
     "name": "stdout",
     "output_type": "stream",
     "text": [
      "['a', 'b', 'c', 'd', 'e']\n",
      "['a', 'b', 'c']\n",
      "['a', 'b', 'c']\n"
     ]
    }
   ],
   "source": [
    "content = 'a1b2c3d4e5'\n",
    "\n",
    "p = re.compile(r'[^\\d]')  # ^表示非, \\d表示数字\n",
    "print(p.findall(content))\n",
    "p = re.compile(r'[abc]')\n",
    "print(p.findall(content))\n",
    "p = re.compile(r'[a-c]')\n",
    "print(p.findall(content))"
   ],
   "metadata": {
    "collapsed": false
   }
  },
  {
   "cell_type": "code",
   "execution_count": 22,
   "outputs": [
    {
     "name": "stdout",
     "output_type": "stream",
     "text": [
      "['001', '002', '003']\n",
      "['001']\n",
      "['60', '70', '80']\n"
     ]
    }
   ],
   "source": [
    "content = '''001-苹果价格-60\n",
    "002-橙子价格-70\n",
    "003-香蕉价格-80'''\n",
    "\n",
    "p = re.compile(r'^\\d+', re.M)  # ^表示匹配文本的开头位置, re.M表示多行模式\n",
    "print(p.findall(content))\n",
    "p = re.compile(r'^\\d+')\n",
    "print(p.findall(content))\n",
    "p = re.compile(r'\\d+$', re.M)\n",
    "print(p.findall(content))  # $表示匹配文本的结尾位置, re.M表示多行模式"
   ],
   "metadata": {
    "collapsed": false
   }
  },
  {
   "cell_type": "code",
   "execution_count": 23,
   "outputs": [
    {
     "name": "stdout",
     "output_type": "stream",
     "text": [
      "['苹', '橙']\n"
     ]
    }
   ],
   "source": [
    "p = re.compile(r'苹|橙')  # |表示或\n",
    "print(p.findall(content))"
   ],
   "metadata": {
    "collapsed": false
   }
  },
  {
   "cell_type": "code",
   "execution_count": 24,
   "outputs": [
    {
     "name": "stdout",
     "output_type": "stream",
     "text": [
      "苹果\n",
      "橙子\n",
      "香蕉\n"
     ]
    }
   ],
   "source": [
    "content = '''苹果，苹果是绿色的\n",
    "橙子，橙子是橙色的\n",
    "香蕉，香蕉是黄色的'''\n",
    "\n",
    "p = re.compile(r'^(.*)，', re.M)  # 括号可以分组, 提取我们需要的部分\n",
    "for one in p.findall(content):\n",
    "    print(one)"
   ],
   "metadata": {
    "collapsed": false
   }
  },
  {
   "cell_type": "code",
   "execution_count": 25,
   "outputs": [
    {
     "name": "stdout",
     "output_type": "stream",
     "text": [
      "('张三', '15945678901')\n",
      "('李四', '13945677701')\n",
      "('王二', '13845666901')\n"
     ]
    }
   ],
   "source": [
    "content = '''张三，手机号码15945678901\n",
    "李四，手机号码13945677701\n",
    "王二，手机号码13845666901'''\n",
    "\n",
    "p = re.compile(r'^(.+)，.+(\\d{11})', re.M)  # 多次分组\n",
    "for one in p.findall(content):\n",
    "    print(one)"
   ],
   "metadata": {
    "collapsed": false
   }
  },
  {
   "cell_type": "code",
   "execution_count": 33,
   "outputs": [
    {
     "name": "stdout",
     "output_type": "stream",
     "text": [
      "张三\n",
      "15945678901\n",
      "张三\n",
      "李四\n",
      "13945677701\n",
      "李四\n",
      "王二\n",
      "13845666901\n",
      "王二\n"
     ]
    }
   ],
   "source": [
    "content = '''张三，手机号码15945678901\n",
    "李四，手机号码13945677701\n",
    "王二，手机号码13845666901'''\n",
    "\n",
    "p = re.compile(r'^(?P<name>.+)，.+(?P<phone>\\d{11})', re.M)\n",
    "for match in p.finditer(content):\n",
    "    print(match.group('name'))\n",
    "    print(match.group('phone'))\n",
    "    print(match['name'])"
   ],
   "metadata": {
    "collapsed": false
   }
  },
  {
   "cell_type": "code",
   "execution_count": 29,
   "outputs": [
    {
     "name": "stdout",
     "output_type": "stream",
     "text": [
      "Python开发工程师\n",
      "java开发工程师\n"
     ]
    }
   ],
   "source": [
    "content = '''\n",
    "<div class=\"el\">\n",
    "        <p class=\"t1\">\n",
    "            <span>\n",
    "                <a>Python开发工程师</a>\n",
    "            </span>\n",
    "        </p>\n",
    "        <span class=\"t2\">南京</span>\n",
    "        <span class=\"t3\">1.5-2万/月</span>\n",
    "</div>\n",
    "<div class=\"el\">\n",
    "        <p class=\"t1\">\n",
    "            <span>\n",
    "                <a>java开发工程师</a>\n",
    "            </span>\n",
    "\t\t</p>\n",
    "        <span class=\"t2\">苏州</span>\n",
    "        <span class=\"t3\">1.5-2/月</span>\n",
    "</div>\n",
    "'''\n",
    "\n",
    "p = re.compile(r'class=\\\"t1\\\">.*?<a>(.*?)</a>', re.DOTALL)  # re.DOTALL忽略换行\n",
    "for one in p.findall(content):\n",
    "    print(one)"
   ],
   "metadata": {
    "collapsed": false
   }
  },
  {
   "cell_type": "code",
   "execution_count": 30,
   "outputs": [
    {
     "name": "stdout",
     "output_type": "stream",
     "text": [
      "['关羽', '张飞', '赵云', '马超', '黄忠', '李逵']\n"
     ]
    }
   ],
   "source": [
    "names = '关羽; 张飞, 赵云,   马超, 黄忠  李逵'\n",
    "\n",
    "namelist = re.split(r'[;,\\s]\\s*', names)  # 以;,空白字符作为分割线\n",
    "print(namelist)"
   ],
   "metadata": {
    "collapsed": false
   }
  },
  {
   "cell_type": "code",
   "execution_count": 31,
   "outputs": [
    {
     "name": "stdout",
     "output_type": "stream",
     "text": [
      "\n",
      "\n",
      "下面是这学期要学习的课程：\n",
      "\n",
      "<a href='https://www.bilibili.com/video/cn345677/?p=1' target='_blank'>点击这里，边看视频讲解，边学习以下内容</a>\n",
      "这节讲的是牛顿第2运动定律\n",
      "\n",
      "<a href='https://www.bilibili.com/video/cn345677/?p=125' target='_blank'>点击这里，边看视频讲解，边学习以下内容</a>\n",
      "这节讲的是毕达哥拉斯公式\n",
      "\n",
      "<a href='https://www.bilibili.com/video/cn345677/?p=33' target='_blank'>点击这里，边看视频讲解，边学习以下内容</a>\n",
      "这节讲的是切割磁力线\n",
      "\n"
     ]
    }
   ],
   "source": [
    "names = '''\n",
    "\n",
    "下面是这学期要学习的课程：\n",
    "\n",
    "<a href='https://www.bilibili.com/video/av66771949/?p=1' target='_blank'>点击这里，边看视频讲解，边学习以下内容</a>\n",
    "这节讲的是牛顿第2运动定律\n",
    "\n",
    "<a href='https://www.bilibili.com/video/av46349552/?p=125' target='_blank'>点击这里，边看视频讲解，边学习以下内容</a>\n",
    "这节讲的是毕达哥拉斯公式\n",
    "\n",
    "<a href='https://www.bilibili.com/video/av90571967/?p=33' target='_blank'>点击这里，边看视频讲解，边学习以下内容</a>\n",
    "这节讲的是切割磁力线\n",
    "'''\n",
    "\n",
    "newStr = re.sub(r'/av\\d+?/', '/cn345677/', names)  # 正则替换\n",
    "print(newStr)"
   ],
   "metadata": {
    "collapsed": false
   }
  },
  {
   "cell_type": "code",
   "execution_count": 34,
   "outputs": [
    {
     "name": "stdout",
     "output_type": "stream",
     "text": [
      "/av66771949/ 替换为 /av66771955/\n",
      "/av46349552/ 替换为 /av46349558/\n",
      "/av90571967/ 替换为 /av90571973/\n",
      "\n",
      "\n",
      "下面是这学期要学习的课程：\n",
      "\n",
      "<a href='https://www.bilibili.com/video/av66771955/?p=1' target='_blank'>点击这里，边看视频讲解，边学习以下内容</a>\n",
      "这节讲的是牛顿第2运动定律\n",
      "\n",
      "<a href='https://www.bilibili.com/video/av46349558/?p=125' target='_blank'>点击这里，边看视频讲解，边学习以下内容</a>\n",
      "这节讲的是毕达哥拉斯公式\n",
      "\n",
      "<a href='https://www.bilibili.com/video/av90571973/?p=33' target='_blank'>点击这里，边看视频讲解，边学习以下内容</a>\n",
      "这节讲的是切割磁力线\n",
      "\n"
     ]
    }
   ],
   "source": [
    "# 替换函数，参数是 Match对象\n",
    "def sub_func(match_):\n",
    "    # Match对象 的 group(0) 返回的是整个匹配上的字符串\n",
    "    src = match_[0]\n",
    "\n",
    "    # Match对象 的 group(1) 返回的是第一个group分组的内容\n",
    "    number = int(match_[1]) + 6\n",
    "    dest = f'/av{number}/'\n",
    "\n",
    "    print(f'{src} 替换为 {dest}')\n",
    "\n",
    "    # 返回值就是最终替换的字符串\n",
    "    return dest\n",
    "\n",
    "newStr = re.sub(r'/av(\\d+?)/', sub_func , names)\n",
    "print(newStr)"
   ],
   "metadata": {
    "collapsed": false
   }
  }
 ],
 "metadata": {
  "kernelspec": {
   "display_name": "Python 3",
   "language": "python",
   "name": "python3"
  },
  "language_info": {
   "codemirror_mode": {
    "name": "ipython",
    "version": 2
   },
   "file_extension": ".py",
   "mimetype": "text/x-python",
   "name": "python",
   "nbconvert_exporter": "python",
   "pygments_lexer": "ipython2",
   "version": "2.7.6"
  }
 },
 "nbformat": 4,
 "nbformat_minor": 0
}
